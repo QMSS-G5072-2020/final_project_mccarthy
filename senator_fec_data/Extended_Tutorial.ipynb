{
 "cells": [
  {
   "cell_type": "markdown",
   "metadata": {},
   "source": [
    "# Welcome to the Senator FEC API Tutorial!"
   ]
  },
  {
   "cell_type": "markdown",
   "metadata": {},
   "source": [
    "## Introduction to the FEC"
   ]
  },
  {
   "cell_type": "markdown",
   "metadata": {},
   "source": [
    "Every year, candidates who wish to run for office in the United States have to file a certain amount of information with the Federal Elections Commission. This data primarily includes information about how much they earned from citizens' contributions and how much they spent. This package allows the user to obtain their information about any sitting U.S. Senator or about both Senators in their state.\n",
    "\n",
    "### Before You Start\n",
    "\n",
    "Before you start using the API, you must have an API key from the FEC. [You can obtain a key here.](https://api.open.fec.gov/developers/#/) You may want to save this key to your environment. Even if you decide not to, you can still use the function `get_api_key()` to save your key for use in further functions."
   ]
  },
  {
   "cell_type": "markdown",
   "metadata": {},
   "source": [
    "## Functions"
   ]
  },
  {
   "cell_type": "markdown",
   "metadata": {},
   "source": [
    "### get_api_key()\n",
    "\n",
    "As stated, all users must have an FEC API key. You can store your API key in the variable \"key\" for easy use in later functions."
   ]
  },
  {
   "cell_type": "code",
   "execution_count": 6,
   "metadata": {},
   "outputs": [
    {
     "name": "stdout",
     "output_type": "stream",
     "text": [
      "<class 'str'>\n"
     ]
    }
   ],
   "source": [
    "from senator_fec_data import senator_fec_data as sfd\n",
    "\n",
    "key = sfd.get_api_key(\"FEC_API_KEY\")\n",
    "print(type(key))"
   ]
  },
  {
   "cell_type": "markdown",
   "metadata": {},
   "source": [
    "### get_senator_list()\n",
    "\n",
    "This function allows you to get a pandas DataFrame of the first and last names of all Senators as well as their states."
   ]
  },
  {
   "cell_type": "code",
   "execution_count": 8,
   "metadata": {},
   "outputs": [
    {
     "data": {
      "text/html": [
       "<div>\n",
       "<style scoped>\n",
       "    .dataframe tbody tr th:only-of-type {\n",
       "        vertical-align: middle;\n",
       "    }\n",
       "\n",
       "    .dataframe tbody tr th {\n",
       "        vertical-align: top;\n",
       "    }\n",
       "\n",
       "    .dataframe thead th {\n",
       "        text-align: right;\n",
       "    }\n",
       "</style>\n",
       "<table border=\"1\" class=\"dataframe\">\n",
       "  <thead>\n",
       "    <tr style=\"text-align: right;\">\n",
       "      <th></th>\n",
       "      <th>first_name</th>\n",
       "      <th>last_name</th>\n",
       "      <th>state</th>\n",
       "      <th>full_name</th>\n",
       "    </tr>\n",
       "  </thead>\n",
       "  <tbody>\n",
       "    <tr>\n",
       "      <th>0</th>\n",
       "      <td>Lamar</td>\n",
       "      <td>Alexander</td>\n",
       "      <td>TN</td>\n",
       "      <td>Lamar Alexander</td>\n",
       "    </tr>\n",
       "    <tr>\n",
       "      <th>1</th>\n",
       "      <td>Tammy</td>\n",
       "      <td>Baldwin</td>\n",
       "      <td>WI</td>\n",
       "      <td>Tammy Baldwin</td>\n",
       "    </tr>\n",
       "    <tr>\n",
       "      <th>2</th>\n",
       "      <td>John</td>\n",
       "      <td>Barrasso</td>\n",
       "      <td>WY</td>\n",
       "      <td>John Barrasso</td>\n",
       "    </tr>\n",
       "    <tr>\n",
       "      <th>3</th>\n",
       "      <td>Michael F.</td>\n",
       "      <td>Bennet</td>\n",
       "      <td>CO</td>\n",
       "      <td>Michael F. Bennet</td>\n",
       "    </tr>\n",
       "    <tr>\n",
       "      <th>4</th>\n",
       "      <td>Marsha</td>\n",
       "      <td>Blackburn</td>\n",
       "      <td>TN</td>\n",
       "      <td>Marsha Blackburn</td>\n",
       "    </tr>\n",
       "    <tr>\n",
       "      <th>...</th>\n",
       "      <td>...</td>\n",
       "      <td>...</td>\n",
       "      <td>...</td>\n",
       "      <td>...</td>\n",
       "    </tr>\n",
       "    <tr>\n",
       "      <th>95</th>\n",
       "      <td>Elizabeth</td>\n",
       "      <td>Warren</td>\n",
       "      <td>MA</td>\n",
       "      <td>Elizabeth Warren</td>\n",
       "    </tr>\n",
       "    <tr>\n",
       "      <th>96</th>\n",
       "      <td>Sheldon</td>\n",
       "      <td>Whitehouse</td>\n",
       "      <td>RI</td>\n",
       "      <td>Sheldon Whitehouse</td>\n",
       "    </tr>\n",
       "    <tr>\n",
       "      <th>97</th>\n",
       "      <td>Roger F.</td>\n",
       "      <td>Wicker</td>\n",
       "      <td>MS</td>\n",
       "      <td>Roger F. Wicker</td>\n",
       "    </tr>\n",
       "    <tr>\n",
       "      <th>98</th>\n",
       "      <td>Ron</td>\n",
       "      <td>Wyden</td>\n",
       "      <td>OR</td>\n",
       "      <td>Ron Wyden</td>\n",
       "    </tr>\n",
       "    <tr>\n",
       "      <th>99</th>\n",
       "      <td>Todd</td>\n",
       "      <td>Young</td>\n",
       "      <td>IN</td>\n",
       "      <td>Todd Young</td>\n",
       "    </tr>\n",
       "  </tbody>\n",
       "</table>\n",
       "<p>100 rows × 4 columns</p>\n",
       "</div>"
      ],
      "text/plain": [
       "    first_name   last_name state           full_name\n",
       "0        Lamar   Alexander    TN     Lamar Alexander\n",
       "1        Tammy     Baldwin    WI       Tammy Baldwin\n",
       "2         John    Barrasso    WY       John Barrasso\n",
       "3   Michael F.      Bennet    CO   Michael F. Bennet\n",
       "4       Marsha   Blackburn    TN    Marsha Blackburn\n",
       "..         ...         ...   ...                 ...\n",
       "95   Elizabeth      Warren    MA    Elizabeth Warren\n",
       "96     Sheldon  Whitehouse    RI  Sheldon Whitehouse\n",
       "97    Roger F.      Wicker    MS     Roger F. Wicker\n",
       "98         Ron       Wyden    OR           Ron Wyden\n",
       "99        Todd       Young    IN          Todd Young\n",
       "\n",
       "[100 rows x 4 columns]"
      ]
     },
     "execution_count": 8,
     "metadata": {},
     "output_type": "execute_result"
    }
   ],
   "source": [
    "sfd.get_senator_list()"
   ]
  },
  {
   "cell_type": "markdown",
   "metadata": {},
   "source": [
    "### get_senator()\n",
    "\n",
    "Some people know their state senators, but it is always helpful to check! Use this function to confirm your state's sitting senators. You must use the legal abbreviation of one of the 50 states in this function."
   ]
  },
  {
   "cell_type": "code",
   "execution_count": 11,
   "metadata": {},
   "outputs": [
    {
     "data": {
      "text/plain": [
       "58    Mitch McConnell\n",
       "65          Rand Paul\n",
       "Name: full_name, dtype: object"
      ]
     },
     "execution_count": 11,
     "metadata": {},
     "output_type": "execute_result"
    }
   ],
   "source": [
    "sfd.get_senator(\"KY\")"
   ]
  },
  {
   "cell_type": "markdown",
   "metadata": {},
   "source": [
    "### get_senator_id()\n",
    "\n",
    "When candidates run for office, they are assigned a unique ID by the FEC. This ID stays the same each time they run for the same seat. However, if they run for a new seat, such as a House seat or the Presidency, their ID changes. This function returns only senator IDs. Make sure you pass in your previously assigned key!"
   ]
  },
  {
   "cell_type": "code",
   "execution_count": 14,
   "metadata": {},
   "outputs": [
    {
     "data": {
      "text/plain": [
       "'S2KY00012'"
      ]
     },
     "execution_count": 14,
     "metadata": {},
     "output_type": "execute_result"
    }
   ],
   "source": [
    "sfd.get_senator_id(\"Mitch McConnell\", key)"
   ]
  },
  {
   "cell_type": "markdown",
   "metadata": {},
   "source": [
    "### get_state_id()\n",
    "\n",
    "You can also get the IDs for both of your state senators at once. "
   ]
  },
  {
   "cell_type": "code",
   "execution_count": 18,
   "metadata": {},
   "outputs": [
    {
     "name": "stdout",
     "output_type": "stream",
     "text": [
      "S2KY00012\n",
      "S0KY00156\n"
     ]
    }
   ],
   "source": [
    "sfd.get_state_ids(\"KY\", key)"
   ]
  },
  {
   "cell_type": "markdown",
   "metadata": {},
   "source": [
    "###  get_fec_totals_senator()\n",
    "\n",
    "If you want the full FEC filings of your senator, use this function. This function produces a pandas DataFrame with all the information that your senator sent to the FEC, including committee filings."
   ]
  },
  {
   "cell_type": "code",
   "execution_count": 22,
   "metadata": {},
   "outputs": [
    {
     "name": "stdout",
     "output_type": "stream",
     "text": [
      "Success! Check your folder for the dataset.\n"
     ]
    }
   ],
   "source": [
    "sfd.get_fec_totals_senator(\"Mitch McConnell\", key)"
   ]
  },
  {
   "cell_type": "markdown",
   "metadata": {},
   "source": [
    "###  get_fec_totals_state()\n",
    "\n",
    "You can also get the data about both of your state senators at once."
   ]
  },
  {
   "cell_type": "code",
   "execution_count": 25,
   "metadata": {},
   "outputs": [
    {
     "name": "stdout",
     "output_type": "stream",
     "text": [
      "Success! Check your folder for the dataset.\n",
      "Success! Check your folder for the dataset.\n"
     ]
    }
   ],
   "source": [
    "sfd.get_fec_totals_state(\"KY\", key)"
   ]
  },
  {
   "cell_type": "markdown",
   "metadata": {},
   "source": [
    "### lifetime_contributions_senator()\n",
    "\n",
    "All candidates are required to register their total number of unitemized contributions from citizens. You can use this function to see how much your senator has received in contributions for all the years that they've run for Senate. Remember, this figure doesn't count House or Presidential runs!"
   ]
  },
  {
   "cell_type": "code",
   "execution_count": 30,
   "metadata": {},
   "outputs": [
    {
     "name": "stdout",
     "output_type": "stream",
     "text": [
      "Mitch McConnell has raised a total of $28058849.2 in unitemized contributions in his or her life.\n"
     ]
    }
   ],
   "source": [
    "sfd.lifetime_contributions_senator(\"Mitch McConnell\", key)"
   ]
  },
  {
   "cell_type": "markdown",
   "metadata": {},
   "source": [
    "### lifetime_contributions_state()\n",
    "\n",
    "Use this function if you want to compare how much both your senators have made across their Senate careers. In this example, it looks like Mitch McConnell has received over twice the number of contributions that Rand Paul has across their Senate careers!"
   ]
  },
  {
   "cell_type": "code",
   "execution_count": 32,
   "metadata": {},
   "outputs": [
    {
     "name": "stdout",
     "output_type": "stream",
     "text": [
      "Mitch McConnell has raised a total of $28058849.2 in unitemized contributions in his or her life.\n",
      "Rand Paul has raised a total of $11300234.64 in unitemized contributions in his or her life.\n"
     ]
    }
   ],
   "source": [
    "sfd.lifetime_contributions_state(\"KY\", key)"
   ]
  },
  {
   "cell_type": "markdown",
   "metadata": {},
   "source": [
    "### lifetime_expenditures_senator()\n",
    "\n",
    "Candidates are also required to tell the FEC how much money they spend. You can use this function to check out how much candidates have spent across their entire Senate careers."
   ]
  },
  {
   "cell_type": "code",
   "execution_count": 35,
   "metadata": {},
   "outputs": [
    {
     "name": "stdout",
     "output_type": "stream",
     "text": [
      "Mitch McConnell has spent a total of $124869616.06 through his or her campaigns for the Senate.\n"
     ]
    }
   ],
   "source": [
    "sfd.lifetime_expenditures_senator(\"Mitch McConnell\", key)"
   ]
  },
  {
   "cell_type": "markdown",
   "metadata": {},
   "source": [
    "###  lifetime_expenditures_state()\n",
    "\n",
    "You can also find the lifetime expenditures of both your senators at once. "
   ]
  },
  {
   "cell_type": "code",
   "execution_count": 38,
   "metadata": {},
   "outputs": [
    {
     "name": "stdout",
     "output_type": "stream",
     "text": [
      "Mitch McConnell has spent a total of $124869616.06 through his or her campaigns for the Senate.\n",
      "Rand Paul has spent a total of $22096297.660000004 through his or her campaigns for the Senate.\n"
     ]
    }
   ],
   "source": [
    "sfd.lifetime_expenditures_state(\"KY\", key)"
   ]
  },
  {
   "cell_type": "markdown",
   "metadata": {},
   "source": [
    "### get_fec_expenditures_senator()\n",
    "\n",
    "If you'd like to visualize the expenditure results, you can use this function to produce a plot of the candidate's expenditures by year. This can be one key to understanding how competitive a Senate race may have been from one year to another. For example, Mitch McConnell's race was especially competitive in 2020, which is reflected in expenditures. Remember also that Senate terms are 6 years long, so most activity will be 6 years apart."
   ]
  },
  {
   "cell_type": "code",
   "execution_count": 41,
   "metadata": {},
   "outputs": [
    {
     "name": "stdout",
     "output_type": "stream",
     "text": [
      "<function show at 0x7f9f25ca33b0>\n"
     ]
    },
    {
     "data": {
      "image/png": "[encoded data removed]",
      "text/plain": [
       "<Figure size 432x288 with 1 Axes>"
      ]
     },
     "metadata": {
      "needs_background": "light"
     },
     "output_type": "display_data"
    }
   ],
   "source": [
    "sfd.get_fec_expenditures_senator(\"Mitch McConnell\", key)"
   ]
  },
  {
   "cell_type": "markdown",
   "metadata": {},
   "source": [
    "###  get_fec_expenditures_state()\n",
    "\n",
    "This function allows you to graph the expenditures by year for both of your state senators. This allows for easy comparison. This also allows you to compare the tenure of different Senate candidates."
   ]
  },
  {
   "cell_type": "code",
   "execution_count": 45,
   "metadata": {},
   "outputs": [
    {
     "name": "stdout",
     "output_type": "stream",
     "text": [
      "<function show at 0x7f9f25ca33b0>\n",
      "<function show at 0x7f9f25ca33b0>\n"
     ]
    },
    {
     "data": {
      "image/png": "[encoded data removed]",
      "text/plain": [
       "<Figure size 432x288 with 1 Axes>"
      ]
     },
     "metadata": {
      "needs_background": "light"
     },
     "output_type": "display_data"
    },
    {
     "data": {
      "image/png": "[encoded data removed]",
      "text/plain": [
       "<Figure size 432x288 with 1 Axes>"
      ]
     },
     "metadata": {
      "needs_background": "light"
     },
     "output_type": "display_data"
    }
   ],
   "source": [
    "sfd.get_fec_expenditures_state(\"KY\", key)"
   ]
  },
  {
   "cell_type": "markdown",
   "metadata": {},
   "source": [
    "###  get_fec_contributions_senator()\n",
    "\n",
    "Similar to `get_fec_expenditures_senator()`, this function displays a plot of the candidate's unitemized contributions over time."
   ]
  },
  {
   "cell_type": "code",
   "execution_count": 48,
   "metadata": {},
   "outputs": [
    {
     "name": "stdout",
     "output_type": "stream",
     "text": [
      "<function show at 0x7f9f25ca33b0>\n"
     ]
    },
    {
     "data": {
      "image/png": "[encoded data removed]",
      "text/plain": [
       "<Figure size 432x288 with 1 Axes>"
      ]
     },
     "metadata": {
      "needs_background": "light"
     },
     "output_type": "display_data"
    }
   ],
   "source": [
    "sfd.get_fec_contributions_senator(\"Mitch McConnell\", key)"
   ]
  },
  {
   "cell_type": "markdown",
   "metadata": {},
   "source": [
    "### get_fec_contributions_state()\n",
    "\n",
    "This function allows you to get plots of the unitemized contributions of both state senators at once."
   ]
  },
  {
   "cell_type": "code",
   "execution_count": 50,
   "metadata": {},
   "outputs": [
    {
     "name": "stdout",
     "output_type": "stream",
     "text": [
      "<function show at 0x7f9f25ca33b0>\n",
      "<function show at 0x7f9f25ca33b0>\n"
     ]
    },
    {
     "data": {
      "image/png": "[encoded data removed]",
      "text/plain": [
       "<Figure size 432x288 with 1 Axes>"
      ]
     },
     "metadata": {
      "needs_background": "light"
     },
     "output_type": "display_data"
    },
    {
     "data": {
      "image/png": "[encoded data removed]",
      "text/plain": [
       "<Figure size 432x288 with 1 Axes>"
      ]
     },
     "metadata": {
      "needs_background": "light"
     },
     "output_type": "display_data"
    }
   ],
   "source": [
    "sfd.get_fec_contributions_state(\"KY\", key)"
   ]
  },
  {
   "cell_type": "markdown",
   "metadata": {},
   "source": [
    "### full_report_senator()\n",
    "\n",
    "This function allows you to get a full report about any sitting U.S. Senator. You receive a report with their lifetime expenditures and contributions as well as plots of their expenditures and contributions by year."
   ]
  },
  {
   "cell_type": "code",
   "execution_count": 52,
   "metadata": {},
   "outputs": [
    {
     "name": "stdout",
     "output_type": "stream",
     "text": [
      "Report on Mitch McConnell:\n",
      "---------------------------\n",
      "Mitch McConnell has raised a total of $28058849.2 in unitemized contributions in his or her life.\n",
      "Mitch McConnell has spent a total of $124869616.06 through his or her campaigns for the Senate.\n",
      "<function show at 0x7f9f25ca33b0>\n",
      "<function show at 0x7f9f25ca33b0>\n"
     ]
    },
    {
     "data": {
      "image/png": "[encoded data removed]",
      "text/plain": [
       "<Figure size 432x288 with 1 Axes>"
      ]
     },
     "metadata": {
      "needs_background": "light"
     },
     "output_type": "display_data"
    },
    {
     "data": {
      "image/png": "[encoded data removed]",
      "text/plain": [
       "<Figure size 432x288 with 1 Axes>"
      ]
     },
     "metadata": {
      "needs_background": "light"
     },
     "output_type": "display_data"
    }
   ],
   "source": [
    "sfd.full_report_senator(\"Mitch McConnell\", key)"
   ]
  }
 ],
 "metadata": {
  "kernelspec": {
   "display_name": "Python 3",
   "language": "python",
   "name": "python3"
  },
  "language_info": {
   "codemirror_mode": {
    "name": "ipython",
    "version": 3
   },
   "file_extension": ".py",
   "mimetype": "text/x-python",
   "name": "python",
   "nbconvert_exporter": "python",
   "pygments_lexer": "ipython3",
   "version": "3.7.7"
  }
 },
 "nbformat": 4,
 "nbformat_minor": 4
}
